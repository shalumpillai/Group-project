{
 "cells": [
  {
   "cell_type": "markdown",
   "id": "57212e49",
   "metadata": {},
   "source": [
    "# Stroke Prediction"
   ]
  },
  {
   "cell_type": "markdown",
   "id": "08d3b6c6",
   "metadata": {},
   "source": [
    "## Introduction"
   ]
  },
  {
   "cell_type": "markdown",
   "id": "c3b2e723",
   "metadata": {},
   "source": [
    "Cerebral stroke has become a significant global public health issue in recent years. The ideal solution to this concern is to prevent in advance by controlling related metabolic factors. However, it is difficult for medical staff to decide whether special precautions are needed for a potential patient only based on the monitoring of physiological indicators unless they are obviously abnormal. \n",
    "\n",
    " In this study, we attempt to predict stroke based on a dataset only including physiological\n",
    "indicators, such as age, hyper tension and blood glucose level,heart disease,etc.And we are using  classification models to predict at maximum accuracy.\n"
   ]
  },
  {
   "cell_type": "markdown",
   "id": "fbc5df97",
   "metadata": {},
   "source": [
    "source of dataset:kaggle/healthcare/stroke-prediction-data."
   ]
  },
  {
   "cell_type": "markdown",
   "id": "c335c044",
   "metadata": {},
   "source": [
    "## Feature Description"
   ]
  },
  {
   "cell_type": "markdown",
   "id": "8b7a7c61",
   "metadata": {},
   "source": [
    "|Feature|Description|\n",
    "|---|---|\n",
    "|1.id                       |Patient ID|\n",
    "|2.gender                   |Gender of Patient|\n",
    "|3.age                      |Age of Patient|\n",
    "|4.hypertension             |0:No Hypertension,1:Suffering from Hypertension|\n",
    "|5.heart_disease            |0:No Heart Disease,1:Suffering from Heart Disease|\n",
    "|6.ever_married             |Yes/No|\n",
    "|7.work_type                |Type of Occupation|\n",
    "|8.Residence_type           |Area type of Residence(Urban/Rural)|\n",
    "|9.avg_glucose_level       | Average Glucose level (measured after meal)|\n",
    "|10.bmi                     |Body Mass Index|\n",
    "|11.smoking_status         | Patient's Smoking status|\n",
    "|12.stroke                  |0:No Stroke,1:Suffered Stroke|"
   ]
  },
  {
   "cell_type": "code",
   "execution_count": 1,
   "id": "9d651f0a",
   "metadata": {},
   "outputs": [],
   "source": [
    "# Importing Numpy as np\n",
    "import numpy as np\n",
    "# Importing pandas as pd\n",
    "import pandas as pd\n",
    "#Importing Matplotlibrary's PyPlot as plt\n",
    "import matplotlib.pyplot as plt\n",
    "# Importing seaborn as sns\n",
    "import seaborn as sns"
   ]
  },
  {
   "cell_type": "code",
   "execution_count": 2,
   "id": "6149034f",
   "metadata": {},
   "outputs": [
    {
     "data": {
      "text/html": [
       "<div>\n",
       "<style scoped>\n",
       "    .dataframe tbody tr th:only-of-type {\n",
       "        vertical-align: middle;\n",
       "    }\n",
       "\n",
       "    .dataframe tbody tr th {\n",
       "        vertical-align: top;\n",
       "    }\n",
       "\n",
       "    .dataframe thead th {\n",
       "        text-align: right;\n",
       "    }\n",
       "</style>\n",
       "<table border=\"1\" class=\"dataframe\">\n",
       "  <thead>\n",
       "    <tr style=\"text-align: right;\">\n",
       "      <th></th>\n",
       "      <th>id</th>\n",
       "      <th>gender</th>\n",
       "      <th>age</th>\n",
       "      <th>hypertension</th>\n",
       "      <th>heart_disease</th>\n",
       "      <th>ever_married</th>\n",
       "      <th>work_type</th>\n",
       "      <th>Residence_type</th>\n",
       "      <th>avg_glucose_level</th>\n",
       "      <th>bmi</th>\n",
       "      <th>smoking_status</th>\n",
       "      <th>stroke</th>\n",
       "    </tr>\n",
       "  </thead>\n",
       "  <tbody>\n",
       "    <tr>\n",
       "      <th>0</th>\n",
       "      <td>9046</td>\n",
       "      <td>Male</td>\n",
       "      <td>67.0</td>\n",
       "      <td>0</td>\n",
       "      <td>1</td>\n",
       "      <td>Yes</td>\n",
       "      <td>Private</td>\n",
       "      <td>Urban</td>\n",
       "      <td>228.69</td>\n",
       "      <td>36.6</td>\n",
       "      <td>formerly smoked</td>\n",
       "      <td>1</td>\n",
       "    </tr>\n",
       "    <tr>\n",
       "      <th>1</th>\n",
       "      <td>51676</td>\n",
       "      <td>Female</td>\n",
       "      <td>61.0</td>\n",
       "      <td>0</td>\n",
       "      <td>0</td>\n",
       "      <td>Yes</td>\n",
       "      <td>Self-employed</td>\n",
       "      <td>Rural</td>\n",
       "      <td>202.21</td>\n",
       "      <td>NaN</td>\n",
       "      <td>never smoked</td>\n",
       "      <td>1</td>\n",
       "    </tr>\n",
       "    <tr>\n",
       "      <th>2</th>\n",
       "      <td>31112</td>\n",
       "      <td>Male</td>\n",
       "      <td>80.0</td>\n",
       "      <td>0</td>\n",
       "      <td>1</td>\n",
       "      <td>Yes</td>\n",
       "      <td>Private</td>\n",
       "      <td>Rural</td>\n",
       "      <td>105.92</td>\n",
       "      <td>32.5</td>\n",
       "      <td>never smoked</td>\n",
       "      <td>1</td>\n",
       "    </tr>\n",
       "    <tr>\n",
       "      <th>3</th>\n",
       "      <td>60182</td>\n",
       "      <td>Female</td>\n",
       "      <td>49.0</td>\n",
       "      <td>0</td>\n",
       "      <td>0</td>\n",
       "      <td>Yes</td>\n",
       "      <td>Private</td>\n",
       "      <td>Urban</td>\n",
       "      <td>171.23</td>\n",
       "      <td>34.4</td>\n",
       "      <td>smokes</td>\n",
       "      <td>1</td>\n",
       "    </tr>\n",
       "    <tr>\n",
       "      <th>4</th>\n",
       "      <td>1665</td>\n",
       "      <td>Female</td>\n",
       "      <td>79.0</td>\n",
       "      <td>1</td>\n",
       "      <td>0</td>\n",
       "      <td>Yes</td>\n",
       "      <td>Self-employed</td>\n",
       "      <td>Rural</td>\n",
       "      <td>174.12</td>\n",
       "      <td>24.0</td>\n",
       "      <td>never smoked</td>\n",
       "      <td>1</td>\n",
       "    </tr>\n",
       "  </tbody>\n",
       "</table>\n",
       "</div>"
      ],
      "text/plain": [
       "      id  gender   age  hypertension  heart_disease ever_married  \\\n",
       "0   9046    Male  67.0             0              1          Yes   \n",
       "1  51676  Female  61.0             0              0          Yes   \n",
       "2  31112    Male  80.0             0              1          Yes   \n",
       "3  60182  Female  49.0             0              0          Yes   \n",
       "4   1665  Female  79.0             1              0          Yes   \n",
       "\n",
       "       work_type Residence_type  avg_glucose_level   bmi   smoking_status  \\\n",
       "0        Private          Urban             228.69  36.6  formerly smoked   \n",
       "1  Self-employed          Rural             202.21   NaN     never smoked   \n",
       "2        Private          Rural             105.92  32.5     never smoked   \n",
       "3        Private          Urban             171.23  34.4           smokes   \n",
       "4  Self-employed          Rural             174.12  24.0     never smoked   \n",
       "\n",
       "   stroke  \n",
       "0       1  \n",
       "1       1  \n",
       "2       1  \n",
       "3       1  \n",
       "4       1  "
      ]
     },
     "execution_count": 2,
     "metadata": {},
     "output_type": "execute_result"
    }
   ],
   "source": [
    "# Read the stroke data\n",
    "pd.set_option('display.max_columns', None)\n",
    "df=pd.read_csv('healthcare-dataset-stroke-data.csv')\n",
    "df.head()"
   ]
  },
  {
   "cell_type": "code",
   "execution_count": 3,
   "id": "da00010c",
   "metadata": {},
   "outputs": [
    {
     "data": {
      "text/plain": [
       "(5110, 12)"
      ]
     },
     "execution_count": 3,
     "metadata": {},
     "output_type": "execute_result"
    }
   ],
   "source": [
    "#let's check the size of our data\n",
    "df.shape"
   ]
  },
  {
   "cell_type": "code",
   "execution_count": 4,
   "id": "3f4855e0",
   "metadata": {},
   "outputs": [
    {
     "data": {
      "text/html": [
       "<div>\n",
       "<style scoped>\n",
       "    .dataframe tbody tr th:only-of-type {\n",
       "        vertical-align: middle;\n",
       "    }\n",
       "\n",
       "    .dataframe tbody tr th {\n",
       "        vertical-align: top;\n",
       "    }\n",
       "\n",
       "    .dataframe thead th {\n",
       "        text-align: right;\n",
       "    }\n",
       "</style>\n",
       "<table border=\"1\" class=\"dataframe\">\n",
       "  <thead>\n",
       "    <tr style=\"text-align: right;\">\n",
       "      <th></th>\n",
       "      <th>id</th>\n",
       "      <th>gender</th>\n",
       "      <th>age</th>\n",
       "      <th>hypertension</th>\n",
       "      <th>heart_disease</th>\n",
       "      <th>ever_married</th>\n",
       "      <th>work_type</th>\n",
       "      <th>Residence_type</th>\n",
       "      <th>avg_glucose_level</th>\n",
       "      <th>bmi</th>\n",
       "      <th>smoking_status</th>\n",
       "      <th>stroke</th>\n",
       "    </tr>\n",
       "  </thead>\n",
       "  <tbody>\n",
       "    <tr>\n",
       "      <th>count</th>\n",
       "      <td>5110.000000</td>\n",
       "      <td>5110</td>\n",
       "      <td>5110.000000</td>\n",
       "      <td>5110.000000</td>\n",
       "      <td>5110.000000</td>\n",
       "      <td>5110</td>\n",
       "      <td>5110</td>\n",
       "      <td>5110</td>\n",
       "      <td>5110.000000</td>\n",
       "      <td>4909.000000</td>\n",
       "      <td>5110</td>\n",
       "      <td>5110.000000</td>\n",
       "    </tr>\n",
       "    <tr>\n",
       "      <th>unique</th>\n",
       "      <td>NaN</td>\n",
       "      <td>3</td>\n",
       "      <td>NaN</td>\n",
       "      <td>NaN</td>\n",
       "      <td>NaN</td>\n",
       "      <td>2</td>\n",
       "      <td>5</td>\n",
       "      <td>2</td>\n",
       "      <td>NaN</td>\n",
       "      <td>NaN</td>\n",
       "      <td>4</td>\n",
       "      <td>NaN</td>\n",
       "    </tr>\n",
       "    <tr>\n",
       "      <th>top</th>\n",
       "      <td>NaN</td>\n",
       "      <td>Female</td>\n",
       "      <td>NaN</td>\n",
       "      <td>NaN</td>\n",
       "      <td>NaN</td>\n",
       "      <td>Yes</td>\n",
       "      <td>Private</td>\n",
       "      <td>Urban</td>\n",
       "      <td>NaN</td>\n",
       "      <td>NaN</td>\n",
       "      <td>never smoked</td>\n",
       "      <td>NaN</td>\n",
       "    </tr>\n",
       "    <tr>\n",
       "      <th>freq</th>\n",
       "      <td>NaN</td>\n",
       "      <td>2994</td>\n",
       "      <td>NaN</td>\n",
       "      <td>NaN</td>\n",
       "      <td>NaN</td>\n",
       "      <td>3353</td>\n",
       "      <td>2925</td>\n",
       "      <td>2596</td>\n",
       "      <td>NaN</td>\n",
       "      <td>NaN</td>\n",
       "      <td>1892</td>\n",
       "      <td>NaN</td>\n",
       "    </tr>\n",
       "    <tr>\n",
       "      <th>mean</th>\n",
       "      <td>36517.829354</td>\n",
       "      <td>NaN</td>\n",
       "      <td>43.226614</td>\n",
       "      <td>0.097456</td>\n",
       "      <td>0.054012</td>\n",
       "      <td>NaN</td>\n",
       "      <td>NaN</td>\n",
       "      <td>NaN</td>\n",
       "      <td>106.147677</td>\n",
       "      <td>28.893237</td>\n",
       "      <td>NaN</td>\n",
       "      <td>0.048728</td>\n",
       "    </tr>\n",
       "    <tr>\n",
       "      <th>std</th>\n",
       "      <td>21161.721625</td>\n",
       "      <td>NaN</td>\n",
       "      <td>22.612647</td>\n",
       "      <td>0.296607</td>\n",
       "      <td>0.226063</td>\n",
       "      <td>NaN</td>\n",
       "      <td>NaN</td>\n",
       "      <td>NaN</td>\n",
       "      <td>45.283560</td>\n",
       "      <td>7.854067</td>\n",
       "      <td>NaN</td>\n",
       "      <td>0.215320</td>\n",
       "    </tr>\n",
       "    <tr>\n",
       "      <th>min</th>\n",
       "      <td>67.000000</td>\n",
       "      <td>NaN</td>\n",
       "      <td>0.080000</td>\n",
       "      <td>0.000000</td>\n",
       "      <td>0.000000</td>\n",
       "      <td>NaN</td>\n",
       "      <td>NaN</td>\n",
       "      <td>NaN</td>\n",
       "      <td>55.120000</td>\n",
       "      <td>10.300000</td>\n",
       "      <td>NaN</td>\n",
       "      <td>0.000000</td>\n",
       "    </tr>\n",
       "    <tr>\n",
       "      <th>25%</th>\n",
       "      <td>17741.250000</td>\n",
       "      <td>NaN</td>\n",
       "      <td>25.000000</td>\n",
       "      <td>0.000000</td>\n",
       "      <td>0.000000</td>\n",
       "      <td>NaN</td>\n",
       "      <td>NaN</td>\n",
       "      <td>NaN</td>\n",
       "      <td>77.245000</td>\n",
       "      <td>23.500000</td>\n",
       "      <td>NaN</td>\n",
       "      <td>0.000000</td>\n",
       "    </tr>\n",
       "    <tr>\n",
       "      <th>50%</th>\n",
       "      <td>36932.000000</td>\n",
       "      <td>NaN</td>\n",
       "      <td>45.000000</td>\n",
       "      <td>0.000000</td>\n",
       "      <td>0.000000</td>\n",
       "      <td>NaN</td>\n",
       "      <td>NaN</td>\n",
       "      <td>NaN</td>\n",
       "      <td>91.885000</td>\n",
       "      <td>28.100000</td>\n",
       "      <td>NaN</td>\n",
       "      <td>0.000000</td>\n",
       "    </tr>\n",
       "    <tr>\n",
       "      <th>75%</th>\n",
       "      <td>54682.000000</td>\n",
       "      <td>NaN</td>\n",
       "      <td>61.000000</td>\n",
       "      <td>0.000000</td>\n",
       "      <td>0.000000</td>\n",
       "      <td>NaN</td>\n",
       "      <td>NaN</td>\n",
       "      <td>NaN</td>\n",
       "      <td>114.090000</td>\n",
       "      <td>33.100000</td>\n",
       "      <td>NaN</td>\n",
       "      <td>0.000000</td>\n",
       "    </tr>\n",
       "    <tr>\n",
       "      <th>max</th>\n",
       "      <td>72940.000000</td>\n",
       "      <td>NaN</td>\n",
       "      <td>82.000000</td>\n",
       "      <td>1.000000</td>\n",
       "      <td>1.000000</td>\n",
       "      <td>NaN</td>\n",
       "      <td>NaN</td>\n",
       "      <td>NaN</td>\n",
       "      <td>271.740000</td>\n",
       "      <td>97.600000</td>\n",
       "      <td>NaN</td>\n",
       "      <td>1.000000</td>\n",
       "    </tr>\n",
       "  </tbody>\n",
       "</table>\n",
       "</div>"
      ],
      "text/plain": [
       "                  id  gender          age  hypertension  heart_disease  \\\n",
       "count    5110.000000    5110  5110.000000   5110.000000    5110.000000   \n",
       "unique           NaN       3          NaN           NaN            NaN   \n",
       "top              NaN  Female          NaN           NaN            NaN   \n",
       "freq             NaN    2994          NaN           NaN            NaN   \n",
       "mean    36517.829354     NaN    43.226614      0.097456       0.054012   \n",
       "std     21161.721625     NaN    22.612647      0.296607       0.226063   \n",
       "min        67.000000     NaN     0.080000      0.000000       0.000000   \n",
       "25%     17741.250000     NaN    25.000000      0.000000       0.000000   \n",
       "50%     36932.000000     NaN    45.000000      0.000000       0.000000   \n",
       "75%     54682.000000     NaN    61.000000      0.000000       0.000000   \n",
       "max     72940.000000     NaN    82.000000      1.000000       1.000000   \n",
       "\n",
       "       ever_married work_type Residence_type  avg_glucose_level          bmi  \\\n",
       "count          5110      5110           5110        5110.000000  4909.000000   \n",
       "unique            2         5              2                NaN          NaN   \n",
       "top             Yes   Private          Urban                NaN          NaN   \n",
       "freq           3353      2925           2596                NaN          NaN   \n",
       "mean            NaN       NaN            NaN         106.147677    28.893237   \n",
       "std             NaN       NaN            NaN          45.283560     7.854067   \n",
       "min             NaN       NaN            NaN          55.120000    10.300000   \n",
       "25%             NaN       NaN            NaN          77.245000    23.500000   \n",
       "50%             NaN       NaN            NaN          91.885000    28.100000   \n",
       "75%             NaN       NaN            NaN         114.090000    33.100000   \n",
       "max             NaN       NaN            NaN         271.740000    97.600000   \n",
       "\n",
       "       smoking_status       stroke  \n",
       "count            5110  5110.000000  \n",
       "unique              4          NaN  \n",
       "top      never smoked          NaN  \n",
       "freq             1892          NaN  \n",
       "mean              NaN     0.048728  \n",
       "std               NaN     0.215320  \n",
       "min               NaN     0.000000  \n",
       "25%               NaN     0.000000  \n",
       "50%               NaN     0.000000  \n",
       "75%               NaN     0.000000  \n",
       "max               NaN     1.000000  "
      ]
     },
     "execution_count": 4,
     "metadata": {},
     "output_type": "execute_result"
    }
   ],
   "source": [
    "df.describe(include = 'all')"
   ]
  },
  {
   "cell_type": "code",
   "execution_count": 5,
   "id": "f96226fc",
   "metadata": {},
   "outputs": [
    {
     "name": "stdout",
     "output_type": "stream",
     "text": [
      "<class 'pandas.core.frame.DataFrame'>\n",
      "RangeIndex: 5110 entries, 0 to 5109\n",
      "Data columns (total 12 columns):\n",
      " #   Column             Non-Null Count  Dtype  \n",
      "---  ------             --------------  -----  \n",
      " 0   id                 5110 non-null   int64  \n",
      " 1   gender             5110 non-null   object \n",
      " 2   age                5110 non-null   float64\n",
      " 3   hypertension       5110 non-null   int64  \n",
      " 4   heart_disease      5110 non-null   int64  \n",
      " 5   ever_married       5110 non-null   object \n",
      " 6   work_type          5110 non-null   object \n",
      " 7   Residence_type     5110 non-null   object \n",
      " 8   avg_glucose_level  5110 non-null   float64\n",
      " 9   bmi                4909 non-null   float64\n",
      " 10  smoking_status     5110 non-null   object \n",
      " 11  stroke             5110 non-null   int64  \n",
      "dtypes: float64(3), int64(4), object(5)\n",
      "memory usage: 479.2+ KB\n"
     ]
    }
   ],
   "source": [
    "df.info()"
   ]
  },
  {
   "cell_type": "markdown",
   "id": "6d9b90f1",
   "metadata": {},
   "source": [
    "## Feature Reduction"
   ]
  },
  {
   "cell_type": "code",
   "execution_count": 6,
   "id": "bb2a59df",
   "metadata": {},
   "outputs": [
    {
     "data": {
      "text/html": [
       "<div>\n",
       "<style scoped>\n",
       "    .dataframe tbody tr th:only-of-type {\n",
       "        vertical-align: middle;\n",
       "    }\n",
       "\n",
       "    .dataframe tbody tr th {\n",
       "        vertical-align: top;\n",
       "    }\n",
       "\n",
       "    .dataframe thead th {\n",
       "        text-align: right;\n",
       "    }\n",
       "</style>\n",
       "<table border=\"1\" class=\"dataframe\">\n",
       "  <thead>\n",
       "    <tr style=\"text-align: right;\">\n",
       "      <th></th>\n",
       "      <th>gender</th>\n",
       "      <th>age</th>\n",
       "      <th>hypertension</th>\n",
       "      <th>heart_disease</th>\n",
       "      <th>ever_married</th>\n",
       "      <th>work_type</th>\n",
       "      <th>Residence_type</th>\n",
       "      <th>avg_glucose_level</th>\n",
       "      <th>bmi</th>\n",
       "      <th>smoking_status</th>\n",
       "      <th>stroke</th>\n",
       "    </tr>\n",
       "  </thead>\n",
       "  <tbody>\n",
       "    <tr>\n",
       "      <th>0</th>\n",
       "      <td>Male</td>\n",
       "      <td>67.0</td>\n",
       "      <td>0</td>\n",
       "      <td>1</td>\n",
       "      <td>Yes</td>\n",
       "      <td>Private</td>\n",
       "      <td>Urban</td>\n",
       "      <td>228.69</td>\n",
       "      <td>36.6</td>\n",
       "      <td>formerly smoked</td>\n",
       "      <td>1</td>\n",
       "    </tr>\n",
       "    <tr>\n",
       "      <th>1</th>\n",
       "      <td>Female</td>\n",
       "      <td>61.0</td>\n",
       "      <td>0</td>\n",
       "      <td>0</td>\n",
       "      <td>Yes</td>\n",
       "      <td>Self-employed</td>\n",
       "      <td>Rural</td>\n",
       "      <td>202.21</td>\n",
       "      <td>NaN</td>\n",
       "      <td>never smoked</td>\n",
       "      <td>1</td>\n",
       "    </tr>\n",
       "    <tr>\n",
       "      <th>2</th>\n",
       "      <td>Male</td>\n",
       "      <td>80.0</td>\n",
       "      <td>0</td>\n",
       "      <td>1</td>\n",
       "      <td>Yes</td>\n",
       "      <td>Private</td>\n",
       "      <td>Rural</td>\n",
       "      <td>105.92</td>\n",
       "      <td>32.5</td>\n",
       "      <td>never smoked</td>\n",
       "      <td>1</td>\n",
       "    </tr>\n",
       "    <tr>\n",
       "      <th>3</th>\n",
       "      <td>Female</td>\n",
       "      <td>49.0</td>\n",
       "      <td>0</td>\n",
       "      <td>0</td>\n",
       "      <td>Yes</td>\n",
       "      <td>Private</td>\n",
       "      <td>Urban</td>\n",
       "      <td>171.23</td>\n",
       "      <td>34.4</td>\n",
       "      <td>smokes</td>\n",
       "      <td>1</td>\n",
       "    </tr>\n",
       "    <tr>\n",
       "      <th>4</th>\n",
       "      <td>Female</td>\n",
       "      <td>79.0</td>\n",
       "      <td>1</td>\n",
       "      <td>0</td>\n",
       "      <td>Yes</td>\n",
       "      <td>Self-employed</td>\n",
       "      <td>Rural</td>\n",
       "      <td>174.12</td>\n",
       "      <td>24.0</td>\n",
       "      <td>never smoked</td>\n",
       "      <td>1</td>\n",
       "    </tr>\n",
       "  </tbody>\n",
       "</table>\n",
       "</div>"
      ],
      "text/plain": [
       "   gender   age  hypertension  heart_disease ever_married      work_type  \\\n",
       "0    Male  67.0             0              1          Yes        Private   \n",
       "1  Female  61.0             0              0          Yes  Self-employed   \n",
       "2    Male  80.0             0              1          Yes        Private   \n",
       "3  Female  49.0             0              0          Yes        Private   \n",
       "4  Female  79.0             1              0          Yes  Self-employed   \n",
       "\n",
       "  Residence_type  avg_glucose_level   bmi   smoking_status  stroke  \n",
       "0          Urban             228.69  36.6  formerly smoked       1  \n",
       "1          Rural             202.21   NaN     never smoked       1  \n",
       "2          Rural             105.92  32.5     never smoked       1  \n",
       "3          Urban             171.23  34.4           smokes       1  \n",
       "4          Rural             174.12  24.0     never smoked       1  "
      ]
     },
     "execution_count": 6,
     "metadata": {},
     "output_type": "execute_result"
    }
   ],
   "source": [
    "# Droping id column which has low feature importance\n",
    "df=df.drop('id',axis=1)\n",
    "df.head()"
   ]
  },
  {
   "cell_type": "markdown",
   "id": "d3e801e3",
   "metadata": {},
   "source": [
    "## Handling Missing values"
   ]
  },
  {
   "cell_type": "code",
   "execution_count": 7,
   "id": "86601d6f",
   "metadata": {},
   "outputs": [
    {
     "data": {
      "text/plain": [
       "gender                 0\n",
       "age                    0\n",
       "hypertension           0\n",
       "heart_disease          0\n",
       "ever_married           0\n",
       "work_type              0\n",
       "Residence_type         0\n",
       "avg_glucose_level      0\n",
       "bmi                  201\n",
       "smoking_status         0\n",
       "stroke                 0\n",
       "dtype: int64"
      ]
     },
     "execution_count": 7,
     "metadata": {},
     "output_type": "execute_result"
    }
   ],
   "source": [
    "df.isna().sum()"
   ]
  },
  {
   "cell_type": "markdown",
   "id": "20345d86",
   "metadata": {},
   "source": [
    "* **There are missing values in Body Mass Index column.**"
   ]
  },
  {
   "cell_type": "code",
   "execution_count": 8,
   "id": "615eb16e",
   "metadata": {},
   "outputs": [
    {
     "data": {
      "text/plain": [
       "Text(0.5, 1.0, 'Distribution of BMI')"
      ]
     },
     "execution_count": 8,
     "metadata": {},
     "output_type": "execute_result"
    },
    {
     "data": {
      "image/png": "[encoded data removed]",
      "text/plain": [
       "<Figure size 720x360 with 1 Axes>"
      ]
     },
     "metadata": {
      "needs_background": "light"
     },
     "output_type": "display_data"
    }
   ],
   "source": [
    "# Plotting BMI column for understanding the distribution\n",
    "plt.figure(figsize=(10,5))\n",
    "sns.set_theme(style=\"whitegrid\")\n",
    "ax=sns.histplot(df.bmi,color='yellow')\n",
    "plt.title('Distribution of BMI',fontsize=12)"
   ]
  },
  {
   "cell_type": "markdown",
   "id": "aca10fba",
   "metadata": {},
   "source": [
    "* **The disribution is Normal ,so we can fill missing values with mean of BMI.**"
   ]
  },
  {
   "cell_type": "code",
   "execution_count": 9,
   "id": "eb7eab5a",
   "metadata": {},
   "outputs": [],
   "source": [
    "# Handling missing values with mean of BMI column\n",
    "df['bmi']=df['bmi'].fillna(df['bmi'].mean())\n",
    "import warnings\n",
    "warnings.filterwarnings(\"ignore\")"
   ]
  },
  {
   "cell_type": "code",
   "execution_count": 10,
   "id": "cc3e7b17",
   "metadata": {},
   "outputs": [
    {
     "data": {
      "text/plain": [
       "gender               0\n",
       "age                  0\n",
       "hypertension         0\n",
       "heart_disease        0\n",
       "ever_married         0\n",
       "work_type            0\n",
       "Residence_type       0\n",
       "avg_glucose_level    0\n",
       "bmi                  0\n",
       "smoking_status       0\n",
       "stroke               0\n",
       "dtype: int64"
      ]
     },
     "execution_count": 10,
     "metadata": {},
     "output_type": "execute_result"
    }
   ],
   "source": [
    "df.isna().sum()"
   ]
  },
  {
   "cell_type": "code",
   "execution_count": 11,
   "id": "0757b17a",
   "metadata": {},
   "outputs": [],
   "source": [
    "# Now there is no null values in the feature set "
   ]
  },
  {
   "cell_type": "code",
   "execution_count": 12,
   "id": "a87129dd",
   "metadata": {
    "scrolled": true
   },
   "outputs": [
    {
     "data": {
      "text/html": [
       "<div>\n",
       "<style scoped>\n",
       "    .dataframe tbody tr th:only-of-type {\n",
       "        vertical-align: middle;\n",
       "    }\n",
       "\n",
       "    .dataframe tbody tr th {\n",
       "        vertical-align: top;\n",
       "    }\n",
       "\n",
       "    .dataframe thead th {\n",
       "        text-align: right;\n",
       "    }\n",
       "</style>\n",
       "<table border=\"1\" class=\"dataframe\">\n",
       "  <thead>\n",
       "    <tr style=\"text-align: right;\">\n",
       "      <th></th>\n",
       "      <th>Feature</th>\n",
       "      <th>Data type</th>\n",
       "    </tr>\n",
       "  </thead>\n",
       "  <tbody>\n",
       "    <tr>\n",
       "      <th>0</th>\n",
       "      <td>gender</td>\n",
       "      <td>object</td>\n",
       "    </tr>\n",
       "    <tr>\n",
       "      <th>4</th>\n",
       "      <td>ever_married</td>\n",
       "      <td>object</td>\n",
       "    </tr>\n",
       "    <tr>\n",
       "      <th>5</th>\n",
       "      <td>work_type</td>\n",
       "      <td>object</td>\n",
       "    </tr>\n",
       "    <tr>\n",
       "      <th>6</th>\n",
       "      <td>Residence_type</td>\n",
       "      <td>object</td>\n",
       "    </tr>\n",
       "    <tr>\n",
       "      <th>9</th>\n",
       "      <td>smoking_status</td>\n",
       "      <td>object</td>\n",
       "    </tr>\n",
       "  </tbody>\n",
       "</table>\n",
       "</div>"
      ],
      "text/plain": [
       "          Feature Data type\n",
       "0          gender    object\n",
       "4    ever_married    object\n",
       "5       work_type    object\n",
       "6  Residence_type    object\n",
       "9  smoking_status    object"
      ]
     },
     "execution_count": 12,
     "metadata": {},
     "output_type": "execute_result"
    }
   ],
   "source": [
    "# Displaying the Object type features\n",
    "dtypes=df.dtypes.to_frame('Data type')\n",
    "dtypes.reset_index(level=0, inplace=True)\n",
    "dtypes.rename(columns = {'index':'Feature'}, inplace = True)\n",
    "dtypes[dtypes['Data type'] == 'object']"
   ]
  },
  {
   "cell_type": "markdown",
   "id": "9b8e69c1",
   "metadata": {},
   "source": [
    "* **There are 5 Non-numeric features in  data frame.**"
   ]
  },
  {
   "cell_type": "markdown",
   "id": "3ba9bd87",
   "metadata": {},
   "source": [
    "### Encoding"
   ]
  },
  {
   "cell_type": "markdown",
   "id": "9fd97576",
   "metadata": {},
   "source": [
    "**Label encoding**"
   ]
  },
  {
   "cell_type": "code",
   "execution_count": 13,
   "id": "307eca2e",
   "metadata": {},
   "outputs": [],
   "source": [
    "from sklearn.preprocessing import LabelEncoder\n",
    "label_en=LabelEncoder()\n",
    "\n",
    "categorical_col=['gender','ever_married','Residence_type','work_type','smoking_status']\n",
    "for i in categorical_col:\n",
    "    df[i] = label_en.fit_transform(df[i])"
   ]
  },
  {
   "cell_type": "code",
   "execution_count": 14,
   "id": "9bfacee9",
   "metadata": {},
   "outputs": [
    {
     "name": "stdout",
     "output_type": "stream",
     "text": [
      "<class 'pandas.core.frame.DataFrame'>\n",
      "RangeIndex: 5110 entries, 0 to 5109\n",
      "Data columns (total 11 columns):\n",
      " #   Column             Non-Null Count  Dtype  \n",
      "---  ------             --------------  -----  \n",
      " 0   gender             5110 non-null   int32  \n",
      " 1   age                5110 non-null   float64\n",
      " 2   hypertension       5110 non-null   int64  \n",
      " 3   heart_disease      5110 non-null   int64  \n",
      " 4   ever_married       5110 non-null   int32  \n",
      " 5   work_type          5110 non-null   int32  \n",
      " 6   Residence_type     5110 non-null   int32  \n",
      " 7   avg_glucose_level  5110 non-null   float64\n",
      " 8   bmi                5110 non-null   float64\n",
      " 9   smoking_status     5110 non-null   int32  \n",
      " 10  stroke             5110 non-null   int64  \n",
      "dtypes: float64(3), int32(5), int64(3)\n",
      "memory usage: 339.5 KB\n"
     ]
    }
   ],
   "source": [
    "df.info()"
   ]
  },
  {
   "cell_type": "markdown",
   "id": "4e61608c",
   "metadata": {},
   "source": [
    "## Preparing the Data"
   ]
  },
  {
   "cell_type": "code",
   "execution_count": 15,
   "id": "4713d643",
   "metadata": {},
   "outputs": [],
   "source": [
    "# Extract feature columns\n",
    "df_features = list(df.columns[:-1])"
   ]
  },
  {
   "cell_type": "code",
   "execution_count": 16,
   "id": "8ab563cb",
   "metadata": {},
   "outputs": [],
   "source": [
    "# Extract target column \n",
    "df_target = df.columns[-1]"
   ]
  },
  {
   "cell_type": "code",
   "execution_count": 17,
   "id": "1a6f9f6e",
   "metadata": {},
   "outputs": [],
   "source": [
    "# Separate the data into feature data and target data (X and y, respectively)\n",
    "X = df[df_features]\n",
    "y = df[df_target]"
   ]
  },
  {
   "cell_type": "markdown",
   "id": "c3b10553",
   "metadata": {},
   "source": [
    "### min-Max scaling"
   ]
  },
  {
   "cell_type": "code",
   "execution_count": 18,
   "id": "0bb3fb5f",
   "metadata": {},
   "outputs": [
    {
     "data": {
      "text/html": [
       "<div>\n",
       "<style scoped>\n",
       "    .dataframe tbody tr th:only-of-type {\n",
       "        vertical-align: middle;\n",
       "    }\n",
       "\n",
       "    .dataframe tbody tr th {\n",
       "        vertical-align: top;\n",
       "    }\n",
       "\n",
       "    .dataframe thead th {\n",
       "        text-align: right;\n",
       "    }\n",
       "</style>\n",
       "<table border=\"1\" class=\"dataframe\">\n",
       "  <thead>\n",
       "    <tr style=\"text-align: right;\">\n",
       "      <th></th>\n",
       "      <th>0</th>\n",
       "      <th>1</th>\n",
       "      <th>2</th>\n",
       "      <th>3</th>\n",
       "      <th>4</th>\n",
       "      <th>5</th>\n",
       "      <th>6</th>\n",
       "      <th>7</th>\n",
       "      <th>8</th>\n",
       "      <th>9</th>\n",
       "    </tr>\n",
       "  </thead>\n",
       "  <tbody>\n",
       "    <tr>\n",
       "      <th>count</th>\n",
       "      <td>5110.000000</td>\n",
       "      <td>5110.000000</td>\n",
       "      <td>5110.000000</td>\n",
       "      <td>5110.000000</td>\n",
       "      <td>5110.000000</td>\n",
       "      <td>5110.000000</td>\n",
       "      <td>5110.000000</td>\n",
       "      <td>5110.000000</td>\n",
       "      <td>5110.000000</td>\n",
       "      <td>5110.000000</td>\n",
       "    </tr>\n",
       "    <tr>\n",
       "      <th>mean</th>\n",
       "      <td>0.207143</td>\n",
       "      <td>0.526692</td>\n",
       "      <td>0.097456</td>\n",
       "      <td>0.054012</td>\n",
       "      <td>0.656164</td>\n",
       "      <td>0.541928</td>\n",
       "      <td>0.508023</td>\n",
       "      <td>0.235563</td>\n",
       "      <td>0.212981</td>\n",
       "      <td>0.458969</td>\n",
       "    </tr>\n",
       "    <tr>\n",
       "      <th>std</th>\n",
       "      <td>0.246522</td>\n",
       "      <td>0.276033</td>\n",
       "      <td>0.296607</td>\n",
       "      <td>0.226063</td>\n",
       "      <td>0.475034</td>\n",
       "      <td>0.272573</td>\n",
       "      <td>0.499985</td>\n",
       "      <td>0.209046</td>\n",
       "      <td>0.088179</td>\n",
       "      <td>0.357178</td>\n",
       "    </tr>\n",
       "    <tr>\n",
       "      <th>min</th>\n",
       "      <td>0.000000</td>\n",
       "      <td>0.000000</td>\n",
       "      <td>0.000000</td>\n",
       "      <td>0.000000</td>\n",
       "      <td>0.000000</td>\n",
       "      <td>0.000000</td>\n",
       "      <td>0.000000</td>\n",
       "      <td>0.000000</td>\n",
       "      <td>0.000000</td>\n",
       "      <td>0.000000</td>\n",
       "    </tr>\n",
       "    <tr>\n",
       "      <th>25%</th>\n",
       "      <td>0.000000</td>\n",
       "      <td>0.304199</td>\n",
       "      <td>0.000000</td>\n",
       "      <td>0.000000</td>\n",
       "      <td>0.000000</td>\n",
       "      <td>0.500000</td>\n",
       "      <td>0.000000</td>\n",
       "      <td>0.102137</td>\n",
       "      <td>0.154639</td>\n",
       "      <td>0.000000</td>\n",
       "    </tr>\n",
       "    <tr>\n",
       "      <th>50%</th>\n",
       "      <td>0.000000</td>\n",
       "      <td>0.548340</td>\n",
       "      <td>0.000000</td>\n",
       "      <td>0.000000</td>\n",
       "      <td>1.000000</td>\n",
       "      <td>0.500000</td>\n",
       "      <td>1.000000</td>\n",
       "      <td>0.169721</td>\n",
       "      <td>0.207331</td>\n",
       "      <td>0.666667</td>\n",
       "    </tr>\n",
       "    <tr>\n",
       "      <th>75%</th>\n",
       "      <td>0.500000</td>\n",
       "      <td>0.743652</td>\n",
       "      <td>0.000000</td>\n",
       "      <td>0.000000</td>\n",
       "      <td>1.000000</td>\n",
       "      <td>0.750000</td>\n",
       "      <td>1.000000</td>\n",
       "      <td>0.272228</td>\n",
       "      <td>0.257732</td>\n",
       "      <td>0.666667</td>\n",
       "    </tr>\n",
       "    <tr>\n",
       "      <th>max</th>\n",
       "      <td>1.000000</td>\n",
       "      <td>1.000000</td>\n",
       "      <td>1.000000</td>\n",
       "      <td>1.000000</td>\n",
       "      <td>1.000000</td>\n",
       "      <td>1.000000</td>\n",
       "      <td>1.000000</td>\n",
       "      <td>1.000000</td>\n",
       "      <td>1.000000</td>\n",
       "      <td>1.000000</td>\n",
       "    </tr>\n",
       "  </tbody>\n",
       "</table>\n",
       "</div>"
      ],
      "text/plain": [
       "                 0            1            2            3            4  \\\n",
       "count  5110.000000  5110.000000  5110.000000  5110.000000  5110.000000   \n",
       "mean      0.207143     0.526692     0.097456     0.054012     0.656164   \n",
       "std       0.246522     0.276033     0.296607     0.226063     0.475034   \n",
       "min       0.000000     0.000000     0.000000     0.000000     0.000000   \n",
       "25%       0.000000     0.304199     0.000000     0.000000     0.000000   \n",
       "50%       0.000000     0.548340     0.000000     0.000000     1.000000   \n",
       "75%       0.500000     0.743652     0.000000     0.000000     1.000000   \n",
       "max       1.000000     1.000000     1.000000     1.000000     1.000000   \n",
       "\n",
       "                 5            6            7            8            9  \n",
       "count  5110.000000  5110.000000  5110.000000  5110.000000  5110.000000  \n",
       "mean      0.541928     0.508023     0.235563     0.212981     0.458969  \n",
       "std       0.272573     0.499985     0.209046     0.088179     0.357178  \n",
       "min       0.000000     0.000000     0.000000     0.000000     0.000000  \n",
       "25%       0.500000     0.000000     0.102137     0.154639     0.000000  \n",
       "50%       0.500000     1.000000     0.169721     0.207331     0.666667  \n",
       "75%       0.750000     1.000000     0.272228     0.257732     0.666667  \n",
       "max       1.000000     1.000000     1.000000     1.000000     1.000000  "
      ]
     },
     "execution_count": 18,
     "metadata": {},
     "output_type": "execute_result"
    }
   ],
   "source": [
    "# performing standard scaling using sklearn\n",
    "from sklearn import preprocessing\n",
    "\n",
    "min_max=preprocessing.MinMaxScaler(feature_range=(0,1))\n",
    "X=min_max.fit_transform(X)\n",
    "X=pd.DataFrame(X)\n",
    "X.describe()\n"
   ]
  },
  {
   "cell_type": "markdown",
   "id": "605724ad",
   "metadata": {},
   "source": [
    "## Exploratory Data Analysis(EDA)"
   ]
  },
  {
   "cell_type": "markdown",
   "id": "c011057d",
   "metadata": {},
   "source": [
    "### 1. Univariate Analysis"
   ]
  },
  {
   "cell_type": "code",
   "execution_count": 19,
   "id": "35f127a6",
   "metadata": {},
   "outputs": [
    {
     "data": {
      "text/plain": [
       "<AxesSubplot:xlabel='stroke', ylabel='count'>"
      ]
     },
     "execution_count": 19,
     "metadata": {},
     "output_type": "execute_result"
    },
    {
     "data": {
      "image/png": "[encoded data removed]",
      "text/plain": [
       "<Figure size 432x288 with 1 Axes>"
      ]
     },
     "metadata": {},
     "output_type": "display_data"
    }
   ],
   "source": [
    "sns.countplot(data = df, x = 'stroke')"
   ]
  },
  {
   "cell_type": "markdown",
   "id": "94c678bc",
   "metadata": {},
   "source": [
    "In this plot we can see the people who had a stroke in population.Here '0'means no stroke,'1' suffered stroke.\n",
    "The count of people who have not stroke is higher than suffered stroke."
   ]
  },
  {
   "cell_type": "code",
   "execution_count": 20,
   "id": "7c34e43d",
   "metadata": {},
   "outputs": [
    {
     "data": {
      "text/plain": [
       "<AxesSubplot:xlabel='heart_disease', ylabel='count'>"
      ]
     },
     "execution_count": 20,
     "metadata": {},
     "output_type": "execute_result"
    },
    {
     "data": {
      "image/png": "[encoded data removed]",
      "text/plain": [
       "<Figure size 432x288 with 1 Axes>"
      ]
     },
     "metadata": {},
     "output_type": "display_data"
    }
   ],
   "source": [
    "sns.countplot(data = df, x = 'heart_disease')"
   ]
  },
  {
   "cell_type": "markdown",
   "id": "822e1b74",
   "metadata": {},
   "source": [
    "In this plot we can see the people who had a heart disease in population.Here, heart_disease 0: no heart disease, 1: \n",
    "suffering from heart disease.The count of people who have no heart disease is higher than\n",
    "who suffering from heat disease."
   ]
  },
  {
   "cell_type": "markdown",
   "id": "2dcefccc",
   "metadata": {},
   "source": [
    "### 2.Bivariate Analysis"
   ]
  },
  {
   "cell_type": "markdown",
   "id": "a7bc627a",
   "metadata": {},
   "source": [
    "### Gender impact on Stroke"
   ]
  },
  {
   "cell_type": "code",
   "execution_count": 21,
   "id": "5c28ec13",
   "metadata": {},
   "outputs": [
    {
     "data": {
      "text/html": [
       "<div>\n",
       "<style scoped>\n",
       "    .dataframe tbody tr th:only-of-type {\n",
       "        vertical-align: middle;\n",
       "    }\n",
       "\n",
       "    .dataframe tbody tr th {\n",
       "        vertical-align: top;\n",
       "    }\n",
       "\n",
       "    .dataframe thead th {\n",
       "        text-align: right;\n",
       "    }\n",
       "</style>\n",
       "<table border=\"1\" class=\"dataframe\">\n",
       "  <thead>\n",
       "    <tr style=\"text-align: right;\">\n",
       "      <th></th>\n",
       "      <th>Gender</th>\n",
       "      <th>count_of_gender</th>\n",
       "    </tr>\n",
       "  </thead>\n",
       "  <tbody>\n",
       "    <tr>\n",
       "      <th>0</th>\n",
       "      <td>0</td>\n",
       "      <td>2994</td>\n",
       "    </tr>\n",
       "    <tr>\n",
       "      <th>1</th>\n",
       "      <td>1</td>\n",
       "      <td>2115</td>\n",
       "    </tr>\n",
       "    <tr>\n",
       "      <th>2</th>\n",
       "      <td>2</td>\n",
       "      <td>1</td>\n",
       "    </tr>\n",
       "  </tbody>\n",
       "</table>\n",
       "</div>"
      ],
      "text/plain": [
       "   Gender  count_of_gender\n",
       "0       0             2994\n",
       "1       1             2115\n",
       "2       2                1"
      ]
     },
     "execution_count": 21,
     "metadata": {},
     "output_type": "execute_result"
    }
   ],
   "source": [
    "#check the gender influence on stroke\n",
    "gender_df = pd.DataFrame(df.gender.value_counts()).reset_index().rename(columns = {\"index\":\"Gender\", \"gender\":\"count_of_gender\"})\n",
    "gender_df"
   ]
  },
  {
   "cell_type": "code",
   "execution_count": 22,
   "id": "f426aeed",
   "metadata": {},
   "outputs": [
    {
     "data": {
      "image/png": "[encoded data removed]",
      "text/plain": [
       "<Figure size 576x432 with 1 Axes>"
      ]
     },
     "metadata": {},
     "output_type": "display_data"
    }
   ],
   "source": [
    "#Pie Chart of type of gender\n",
    "sns.color_palette(\"hls\", 8)\n",
    "type_counts = df.gender.value_counts()\n",
    "pie, ax = plt.subplots(figsize=[8,6])\n",
    "plt.pie(type_counts, labels = type_counts.index,startangle=150, autopct=\"%1.1f%%\", shadow=True, explode=None, colors = ['Green','violet', 'orange'])\n",
    "plt.title(\"Pie Chart for gender distribution\", fontsize=14);"
   ]
  },
  {
   "cell_type": "markdown",
   "id": "3be88371",
   "metadata": {},
   "source": [
    "**Insight**: We can see that the records provided shows that more number of Female had stroke than men."
   ]
  },
  {
   "cell_type": "markdown",
   "id": "4dc71e3c",
   "metadata": {},
   "source": [
    "### Patient's Background"
   ]
  },
  {
   "cell_type": "code",
   "execution_count": 23,
   "id": "6091adef",
   "metadata": {},
   "outputs": [
    {
     "data": {
      "text/plain": [
       "Text(0.5, 1.0, 'Distribution of Residence type')"
      ]
     },
     "execution_count": 23,
     "metadata": {},
     "output_type": "execute_result"
    },
    {
     "data": {
      "image/png": "[encoded data removed]",
      "text/plain": [
       "<Figure size 720x360 with 1 Axes>"
      ]
     },
     "metadata": {},
     "output_type": "display_data"
    }
   ],
   "source": [
    "# Plotting contplot of Residence type\n",
    "plt.figure(figsize=(10,5))\n",
    "sns.set_theme(style=\"whitegrid\")\n",
    "ax=sns.countplot(x=df.Residence_type,palette='rocket')\n",
    "plt.title('Distribution of Residence type',fontsize=14)"
   ]
  },
  {
   "cell_type": "markdown",
   "id": "8c0a55e9",
   "metadata": {},
   "source": [
    "**Insight**: More patients are frome Urban area."
   ]
  },
  {
   "cell_type": "markdown",
   "id": "0ce144a1",
   "metadata": {},
   "source": [
    "### Age Groups having strokes"
   ]
  },
  {
   "cell_type": "code",
   "execution_count": 24,
   "id": "275b5462",
   "metadata": {},
   "outputs": [
    {
     "data": {
      "text/plain": [
       "Text(0.5, 1.0, 'Top 10 age groups having strokes')"
      ]
     },
     "execution_count": 24,
     "metadata": {},
     "output_type": "execute_result"
    },
    {
     "data": {
      "image/png": "[encoded data removed]",
      "text/plain": [
       "<Figure size 720x360 with 1 Axes>"
      ]
     },
     "metadata": {},
     "output_type": "display_data"
    }
   ],
   "source": [
    "# Calculating the counts and sorting on age column\n",
    "age_count = df.age.value_counts().sort_values(ascending=False)\n",
    "# plotting the top 10 age groups had more strokes\n",
    "age_df = pd.DataFrame(age_count.iloc[:10]).reset_index().rename(columns = {\"index\":\"age\",\"age\":\"count\"})\n",
    "plt.figure(figsize=(10,5))\n",
    "sns.barplot(x=\"age\", y=\"count\",data = age_df,palette='husl')\n",
    "plt.title(\"Top 10 age groups having strokes\",fontsize=14)"
   ]
  },
  {
   "cell_type": "markdown",
   "id": "cd68a261",
   "metadata": {},
   "source": [
    "**Insight**: The age bracket between 77-79 has the most number of strokes."
   ]
  },
  {
   "cell_type": "markdown",
   "id": "49d4aa1f",
   "metadata": {},
   "source": [
    "### Smoking types and  heart disease vs Stroke"
   ]
  },
  {
   "cell_type": "code",
   "execution_count": 25,
   "id": "2cbde847",
   "metadata": {},
   "outputs": [
    {
     "data": {
      "image/png": "[encoded data removed]",
      "text/plain": [
       "<Figure size 504x360 with 1 Axes>"
      ]
     },
     "metadata": {},
     "output_type": "display_data"
    }
   ],
   "source": [
    "# plotting Barplot of Smoking types and  heart disease vs Stroke\n",
    "plt.figure(figsize=(7,5))\n",
    "\n",
    "plt.title(\"Smoking types and  heart disease vs Stroke\",fontsize=14)\n",
    "ax = sns.barplot(x='smoking_status', y='stroke', hue='heart_disease', data=df, ci=None,palette='magma')"
   ]
  },
  {
   "cell_type": "markdown",
   "id": "36027f2d",
   "metadata": {},
   "source": [
    "**Insight**: The graph shows that smokers suffering from Heart disease have stroke than the rest."
   ]
  },
  {
   "cell_type": "markdown",
   "id": "55f6f162",
   "metadata": {},
   "source": [
    "### work types and hypertension vs Stroke"
   ]
  },
  {
   "cell_type": "code",
   "execution_count": 26,
   "id": "687d1dd3",
   "metadata": {},
   "outputs": [
    {
     "data": {
      "image/png": "[encoded data removed]",
      "text/plain": [
       "<Figure size 504x360 with 1 Axes>"
      ]
     },
     "metadata": {},
     "output_type": "display_data"
    }
   ],
   "source": [
    "# plotting line plot of work types and hypertension vs Stroke\n",
    "plt.figure(figsize=(7,5))\n",
    "\n",
    "plt.title(\"work types and hypertension vs Stroke\",fontsize=14)\n",
    "ax = sns.lineplot(x='work_type', y='stroke', hue='hypertension', palette='viridis', data=df, ci=None)"
   ]
  },
  {
   "cell_type": "markdown",
   "id": "d65115a5",
   "metadata": {},
   "source": [
    "**Insight**: The self-employed workers are found to be most suffering from Hyper tension have stroke and there's a larege quantity of hypertension that's unknown so it can be higher than what we have."
   ]
  },
  {
   "cell_type": "markdown",
   "id": "4bc2bb25",
   "metadata": {},
   "source": [
    "### Distribution of Numerical variables"
   ]
  },
  {
   "cell_type": "code",
   "execution_count": 27,
   "id": "6fa1fa4a",
   "metadata": {},
   "outputs": [
    {
     "data": {
      "text/plain": [
       "<function matplotlib.pyplot.show(close=None, block=None)>"
      ]
     },
     "execution_count": 27,
     "metadata": {},
     "output_type": "execute_result"
    },
    {
     "data": {
      "image/png": "[encoded data removed]",
      "text/plain": [
       "<Figure size 720x1080 with 12 Axes>"
      ]
     },
     "metadata": {},
     "output_type": "display_data"
    }
   ],
   "source": [
    "# Plotting  to understand the distribution of features\n",
    "freqgraph=df.select_dtypes(include=['float','int'])\n",
    "freqgraph.hist(figsize=(10,15))\n",
    "plt.show"
   ]
  },
  {
   "cell_type": "markdown",
   "id": "ab9be0a8",
   "metadata": {},
   "source": [
    "**Insight**: From the graph we can see that,bmi and age are normally distributed and avg_glucose_level is skewed."
   ]
  },
  {
   "cell_type": "markdown",
   "id": "344a54e7",
   "metadata": {},
   "source": [
    "## Modelling"
   ]
  },
  {
   "cell_type": "code",
   "execution_count": 28,
   "id": "53d06660",
   "metadata": {},
   "outputs": [
    {
     "data": {
      "text/html": [
       "<div>\n",
       "<style scoped>\n",
       "    .dataframe tbody tr th:only-of-type {\n",
       "        vertical-align: middle;\n",
       "    }\n",
       "\n",
       "    .dataframe tbody tr th {\n",
       "        vertical-align: top;\n",
       "    }\n",
       "\n",
       "    .dataframe thead th {\n",
       "        text-align: right;\n",
       "    }\n",
       "</style>\n",
       "<table border=\"1\" class=\"dataframe\">\n",
       "  <thead>\n",
       "    <tr style=\"text-align: right;\">\n",
       "      <th></th>\n",
       "      <th>gender</th>\n",
       "      <th>age</th>\n",
       "      <th>hypertension</th>\n",
       "      <th>heart_disease</th>\n",
       "      <th>ever_married</th>\n",
       "      <th>work_type</th>\n",
       "      <th>Residence_type</th>\n",
       "      <th>avg_glucose_level</th>\n",
       "      <th>bmi</th>\n",
       "      <th>smoking_status</th>\n",
       "      <th>stroke</th>\n",
       "    </tr>\n",
       "  </thead>\n",
       "  <tbody>\n",
       "    <tr>\n",
       "      <th>gender</th>\n",
       "      <td>1.000000</td>\n",
       "      <td>-0.028202</td>\n",
       "      <td>0.020994</td>\n",
       "      <td>0.085447</td>\n",
       "      <td>-0.031005</td>\n",
       "      <td>0.056422</td>\n",
       "      <td>-0.006738</td>\n",
       "      <td>0.055180</td>\n",
       "      <td>-0.026109</td>\n",
       "      <td>-0.062581</td>\n",
       "      <td>0.008929</td>\n",
       "    </tr>\n",
       "    <tr>\n",
       "      <th>age</th>\n",
       "      <td>-0.028202</td>\n",
       "      <td>1.000000</td>\n",
       "      <td>0.276398</td>\n",
       "      <td>0.263796</td>\n",
       "      <td>0.679125</td>\n",
       "      <td>-0.361642</td>\n",
       "      <td>0.014180</td>\n",
       "      <td>0.238171</td>\n",
       "      <td>0.325942</td>\n",
       "      <td>0.265199</td>\n",
       "      <td>0.245257</td>\n",
       "    </tr>\n",
       "    <tr>\n",
       "      <th>hypertension</th>\n",
       "      <td>0.020994</td>\n",
       "      <td>0.276398</td>\n",
       "      <td>1.000000</td>\n",
       "      <td>0.108306</td>\n",
       "      <td>0.164243</td>\n",
       "      <td>-0.051761</td>\n",
       "      <td>-0.007913</td>\n",
       "      <td>0.174474</td>\n",
       "      <td>0.160189</td>\n",
       "      <td>0.111038</td>\n",
       "      <td>0.127904</td>\n",
       "    </tr>\n",
       "    <tr>\n",
       "      <th>heart_disease</th>\n",
       "      <td>0.085447</td>\n",
       "      <td>0.263796</td>\n",
       "      <td>0.108306</td>\n",
       "      <td>1.000000</td>\n",
       "      <td>0.114644</td>\n",
       "      <td>-0.028023</td>\n",
       "      <td>0.003092</td>\n",
       "      <td>0.161857</td>\n",
       "      <td>0.038899</td>\n",
       "      <td>0.048460</td>\n",
       "      <td>0.134914</td>\n",
       "    </tr>\n",
       "    <tr>\n",
       "      <th>ever_married</th>\n",
       "      <td>-0.031005</td>\n",
       "      <td>0.679125</td>\n",
       "      <td>0.164243</td>\n",
       "      <td>0.114644</td>\n",
       "      <td>1.000000</td>\n",
       "      <td>-0.352722</td>\n",
       "      <td>0.006261</td>\n",
       "      <td>0.155068</td>\n",
       "      <td>0.335705</td>\n",
       "      <td>0.259647</td>\n",
       "      <td>0.108340</td>\n",
       "    </tr>\n",
       "    <tr>\n",
       "      <th>work_type</th>\n",
       "      <td>0.056422</td>\n",
       "      <td>-0.361642</td>\n",
       "      <td>-0.051761</td>\n",
       "      <td>-0.028023</td>\n",
       "      <td>-0.352722</td>\n",
       "      <td>1.000000</td>\n",
       "      <td>-0.007316</td>\n",
       "      <td>-0.050513</td>\n",
       "      <td>-0.299448</td>\n",
       "      <td>-0.305927</td>\n",
       "      <td>-0.032316</td>\n",
       "    </tr>\n",
       "    <tr>\n",
       "      <th>Residence_type</th>\n",
       "      <td>-0.006738</td>\n",
       "      <td>0.014180</td>\n",
       "      <td>-0.007913</td>\n",
       "      <td>0.003092</td>\n",
       "      <td>0.006261</td>\n",
       "      <td>-0.007316</td>\n",
       "      <td>1.000000</td>\n",
       "      <td>-0.004946</td>\n",
       "      <td>-0.000120</td>\n",
       "      <td>0.008237</td>\n",
       "      <td>0.015458</td>\n",
       "    </tr>\n",
       "    <tr>\n",
       "      <th>avg_glucose_level</th>\n",
       "      <td>0.055180</td>\n",
       "      <td>0.238171</td>\n",
       "      <td>0.174474</td>\n",
       "      <td>0.161857</td>\n",
       "      <td>0.155068</td>\n",
       "      <td>-0.050513</td>\n",
       "      <td>-0.004946</td>\n",
       "      <td>1.000000</td>\n",
       "      <td>0.168751</td>\n",
       "      <td>0.063437</td>\n",
       "      <td>0.131945</td>\n",
       "    </tr>\n",
       "    <tr>\n",
       "      <th>bmi</th>\n",
       "      <td>-0.026109</td>\n",
       "      <td>0.325942</td>\n",
       "      <td>0.160189</td>\n",
       "      <td>0.038899</td>\n",
       "      <td>0.335705</td>\n",
       "      <td>-0.299448</td>\n",
       "      <td>-0.000120</td>\n",
       "      <td>0.168751</td>\n",
       "      <td>1.000000</td>\n",
       "      <td>0.219148</td>\n",
       "      <td>0.038947</td>\n",
       "    </tr>\n",
       "    <tr>\n",
       "      <th>smoking_status</th>\n",
       "      <td>-0.062581</td>\n",
       "      <td>0.265199</td>\n",
       "      <td>0.111038</td>\n",
       "      <td>0.048460</td>\n",
       "      <td>0.259647</td>\n",
       "      <td>-0.305927</td>\n",
       "      <td>0.008237</td>\n",
       "      <td>0.063437</td>\n",
       "      <td>0.219148</td>\n",
       "      <td>1.000000</td>\n",
       "      <td>0.028123</td>\n",
       "    </tr>\n",
       "    <tr>\n",
       "      <th>stroke</th>\n",
       "      <td>0.008929</td>\n",
       "      <td>0.245257</td>\n",
       "      <td>0.127904</td>\n",
       "      <td>0.134914</td>\n",
       "      <td>0.108340</td>\n",
       "      <td>-0.032316</td>\n",
       "      <td>0.015458</td>\n",
       "      <td>0.131945</td>\n",
       "      <td>0.038947</td>\n",
       "      <td>0.028123</td>\n",
       "      <td>1.000000</td>\n",
       "    </tr>\n",
       "  </tbody>\n",
       "</table>\n",
       "</div>"
      ],
      "text/plain": [
       "                     gender       age  hypertension  heart_disease  \\\n",
       "gender             1.000000 -0.028202      0.020994       0.085447   \n",
       "age               -0.028202  1.000000      0.276398       0.263796   \n",
       "hypertension       0.020994  0.276398      1.000000       0.108306   \n",
       "heart_disease      0.085447  0.263796      0.108306       1.000000   \n",
       "ever_married      -0.031005  0.679125      0.164243       0.114644   \n",
       "work_type          0.056422 -0.361642     -0.051761      -0.028023   \n",
       "Residence_type    -0.006738  0.014180     -0.007913       0.003092   \n",
       "avg_glucose_level  0.055180  0.238171      0.174474       0.161857   \n",
       "bmi               -0.026109  0.325942      0.160189       0.038899   \n",
       "smoking_status    -0.062581  0.265199      0.111038       0.048460   \n",
       "stroke             0.008929  0.245257      0.127904       0.134914   \n",
       "\n",
       "                   ever_married  work_type  Residence_type  avg_glucose_level  \\\n",
       "gender                -0.031005   0.056422       -0.006738           0.055180   \n",
       "age                    0.679125  -0.361642        0.014180           0.238171   \n",
       "hypertension           0.164243  -0.051761       -0.007913           0.174474   \n",
       "heart_disease          0.114644  -0.028023        0.003092           0.161857   \n",
       "ever_married           1.000000  -0.352722        0.006261           0.155068   \n",
       "work_type             -0.352722   1.000000       -0.007316          -0.050513   \n",
       "Residence_type         0.006261  -0.007316        1.000000          -0.004946   \n",
       "avg_glucose_level      0.155068  -0.050513       -0.004946           1.000000   \n",
       "bmi                    0.335705  -0.299448       -0.000120           0.168751   \n",
       "smoking_status         0.259647  -0.305927        0.008237           0.063437   \n",
       "stroke                 0.108340  -0.032316        0.015458           0.131945   \n",
       "\n",
       "                        bmi  smoking_status    stroke  \n",
       "gender            -0.026109       -0.062581  0.008929  \n",
       "age                0.325942        0.265199  0.245257  \n",
       "hypertension       0.160189        0.111038  0.127904  \n",
       "heart_disease      0.038899        0.048460  0.134914  \n",
       "ever_married       0.335705        0.259647  0.108340  \n",
       "work_type         -0.299448       -0.305927 -0.032316  \n",
       "Residence_type    -0.000120        0.008237  0.015458  \n",
       "avg_glucose_level  0.168751        0.063437  0.131945  \n",
       "bmi                1.000000        0.219148  0.038947  \n",
       "smoking_status     0.219148        1.000000  0.028123  \n",
       "stroke             0.038947        0.028123  1.000000  "
      ]
     },
     "execution_count": 28,
     "metadata": {},
     "output_type": "execute_result"
    }
   ],
   "source": [
    "# Checking the correlation of features\n",
    "corr_matrix = df.corr()\n",
    "corr_matrix\n"
   ]
  },
  {
   "cell_type": "code",
   "execution_count": 29,
   "id": "33292f33",
   "metadata": {},
   "outputs": [
    {
     "data": {
      "image/png": "[encoded data removed]",
      "text/plain": [
       "<Figure size 504x360 with 2 Axes>"
      ]
     },
     "metadata": {},
     "output_type": "display_data"
    }
   ],
   "source": [
    "# Plotting heatmap\n",
    "plt.figure(figsize=(7,5))\n",
    "ax = sns.heatmap(corr_matrix, vmin=0, vmax=1, linewidths=.5,annot=True, cmap='YlGn_r')\n"
   ]
  },
  {
   "cell_type": "markdown",
   "id": "79ed30a5",
   "metadata": {},
   "source": [
    "**Insight**: The heatmap shows that the columns are weekly correlated with each other and only few columns have strong correlation such as age and bmi, age and hypertension, age and heart disease, age and stroke etc."
   ]
  },
  {
   "cell_type": "markdown",
   "id": "17aa0d90",
   "metadata": {},
   "source": [
    "### Implementation: Training and Testing Data Split"
   ]
  },
  {
   "cell_type": "markdown",
   "id": "dbaa757c",
   "metadata": {},
   "source": [
    "next step, we split the data (both features and corresponding labels) into training and test sets"
   ]
  },
  {
   "cell_type": "code",
   "execution_count": 30,
   "id": "e33986ce",
   "metadata": {},
   "outputs": [],
   "source": [
    "# splitting the data into train and test\n",
    "from sklearn.model_selection import train_test_split\n",
    "X_train, X_test, y_train, y_test = train_test_split(X, y,stratify=y, test_size = 0.2405063291, random_state=42)"
   ]
  },
  {
   "cell_type": "markdown",
   "id": "e3395559",
   "metadata": {},
   "source": [
    " There are 17 classes of supervised learning models available in Scikit-Learn (Ver.1.0.2) at the time of creation of this notebook. Out of them we selected 4 Models which are best suited for our data.\n"
   ]
  },
  {
   "cell_type": "markdown",
   "id": "b60b8e68",
   "metadata": {},
   "source": [
    "### 1. Support Vector Machine"
   ]
  },
  {
   "cell_type": "markdown",
   "id": "a16aa64e",
   "metadata": {},
   "source": [
    "“Support Vector Machine” (SVM) is a supervised machine learning algorithm that can be used for both classification or regression challenges.In the SVM algorithm, we plot each data item as a point in n-dimensional space (where n is a number of features you have) with the value of each feature being the value of a particular coordinate. Then, we perform classification by finding the hyper-plane that differentiates the two classes very well .\n"
   ]
  },
  {
   "cell_type": "markdown",
   "id": "806b6fce",
   "metadata": {},
   "source": [
    "### 2. Logistic Regression"
   ]
  },
  {
   "cell_type": "markdown",
   "id": "c16de510",
   "metadata": {},
   "source": [
    "Logistic regression is a classification algorithm used to find the probability of event success and event failure. It is used when the dependent variable is binary(0/1, True/False, Yes/No) in nature. It supports categorizing data into discrete classes by studying the relationship from a given set of labelled data.\n"
   ]
  },
  {
   "cell_type": "markdown",
   "id": "37be1160",
   "metadata": {},
   "source": [
    "### 3. K-NN"
   ]
  },
  {
   "cell_type": "markdown",
   "id": "7d198d1c",
   "metadata": {},
   "source": [
    "K- Nearest Neighbors or also known as K-NN belong to the family of supervised machine learning algorithms which means we use labeled (Target Variable) dataset to predict the class of new data point. The K-NN algorithm is a robust classifier which is often used as a benchmark for more complex classifiers such as Artificial Neural Network (ANN) or Support vector machine (SVM).\n"
   ]
  },
  {
   "cell_type": "markdown",
   "id": "3438a61c",
   "metadata": {},
   "source": [
    "### 4. Random Forest"
   ]
  },
  {
   "cell_type": "markdown",
   "id": "a2588190",
   "metadata": {},
   "source": [
    "Random forest algorithm is suitable for both classifications and regression task.It gives a higher accuracy through cross validation.Random forest classifier can handle the missing values and maintain the accuracy of a large proportion of data.If there are more trees, it doesn’t allow over-fitting trees in the model.It has the ability to work upon a large data set with higher dimensionality."
   ]
  },
  {
   "cell_type": "markdown",
   "id": "f0e9868a",
   "metadata": {},
   "source": [
    "## Model Application"
   ]
  },
  {
   "cell_type": "code",
   "execution_count": 31,
   "id": "641df025",
   "metadata": {},
   "outputs": [],
   "source": [
    "# Import the  supervised learning models from sklearn\n",
    "from sklearn.svm import SVC\n",
    "from sklearn.neighbors import KNeighborsClassifier as KNC\n",
    "from sklearn.linear_model import LogisticRegression as LR\n",
    "from sklearn.ensemble import RandomForestClassifier as RFC"
   ]
  },
  {
   "cell_type": "code",
   "execution_count": 32,
   "id": "a7287a17",
   "metadata": {},
   "outputs": [
    {
     "data": {
      "text/plain": [
       "SVC()"
      ]
     },
     "execution_count": 32,
     "metadata": {},
     "output_type": "execute_result"
    }
   ],
   "source": [
    "# fit model-1  on training data\n",
    "\n",
    "SVCModel = SVC(kernel='rbf') \n",
    "SVCModel.fit(X_train, y_train)"
   ]
  },
  {
   "cell_type": "code",
   "execution_count": 33,
   "id": "d8ecaf06",
   "metadata": {},
   "outputs": [],
   "source": [
    "# predict on the test data\n",
    "y_pred=SVCModel.predict(X_test)"
   ]
  },
  {
   "cell_type": "code",
   "execution_count": 34,
   "id": "a024fa30",
   "metadata": {},
   "outputs": [
    {
     "name": "stdout",
     "output_type": "stream",
     "text": [
      "              precision    recall  f1-score   support\n",
      "\n",
      "           0       0.95      1.00      0.97      1169\n",
      "           1       0.00      0.00      0.00        60\n",
      "\n",
      "    accuracy                           0.95      1229\n",
      "   macro avg       0.48      0.50      0.49      1229\n",
      "weighted avg       0.90      0.95      0.93      1229\n",
      "\n",
      "Confusion matrix of the model is:\n",
      " [[1169    0]\n",
      " [  60    0]]\n"
     ]
    }
   ],
   "source": [
    "# Importing confusion_matrix from sklearn.metrics as CM\n",
    "from sklearn.metrics import confusion_matrix as CM\n",
    "# Importing classification_report from sklearn.metrics as CR\n",
    "from sklearn.metrics import classification_report as CR\n",
    "# Final status of the predictions made by the SV Classifier\n",
    "print(CR(y_test , y_pred))\n",
    "print('Confusion matrix of the model is:\\n',CM(y_test, y_pred))"
   ]
  },
  {
   "cell_type": "code",
   "execution_count": 35,
   "id": "af4c04ad",
   "metadata": {},
   "outputs": [
    {
     "name": "stdout",
     "output_type": "stream",
     "text": [
      "Accuracy on training set: 0.95\n",
      "Accuracy on test set: 0.95\n",
      "Precision score on test set: 0.48\n",
      "Recall score on test set: 0.5\n",
      "F1 score on test set: 0.49\n"
     ]
    }
   ],
   "source": [
    "# calculate the accuracy score\n",
    "from sklearn.metrics import accuracy_score, precision_score, recall_score, f1_score\n",
    "print('Accuracy on training set:', round(SVCModel.score(X_train, y_train),2))\n",
    "print('Accuracy on test set:', round(accuracy_score(y_test, y_pred),2))\n",
    "print('Precision score on test set:', round(precision_score(y_test, y_pred, average='macro'),2))\n",
    "print('Recall score on test set:', round(recall_score(y_test, y_pred, average='macro'),2))\n",
    "print('F1 score on test set:', round(f1_score(y_test, y_pred, average='macro'),2))"
   ]
  },
  {
   "cell_type": "code",
   "execution_count": 36,
   "id": "d14bf830",
   "metadata": {},
   "outputs": [
    {
     "data": {
      "text/plain": [
       "LogisticRegression(max_iter=3000)"
      ]
     },
     "execution_count": 36,
     "metadata": {},
     "output_type": "execute_result"
    }
   ],
   "source": [
    "# fit the model-2 on training data and predict on the test data and measure the accuracy\n",
    "LRModel = LR(max_iter=3000)\n",
    "LRModel.fit(X_train, y_train)"
   ]
  },
  {
   "cell_type": "code",
   "execution_count": 37,
   "id": "38ad6ed5",
   "metadata": {},
   "outputs": [],
   "source": [
    "# predict on the test data\n",
    "y_pred=LRModel.predict(X_test)"
   ]
  },
  {
   "cell_type": "code",
   "execution_count": 38,
   "id": "82dd317f",
   "metadata": {},
   "outputs": [
    {
     "name": "stdout",
     "output_type": "stream",
     "text": [
      "              precision    recall  f1-score   support\n",
      "\n",
      "           0       0.95      1.00      0.97      1169\n",
      "           1       0.00      0.00      0.00        60\n",
      "\n",
      "    accuracy                           0.95      1229\n",
      "   macro avg       0.48      0.50      0.49      1229\n",
      "weighted avg       0.90      0.95      0.93      1229\n",
      "\n",
      "Confusion matrix of the model is:\n",
      " [[1169    0]\n",
      " [  60    0]]\n"
     ]
    }
   ],
   "source": [
    "# Final status of the predictions made by the Logistic Regression Classifier\n",
    "print(CR(y_test , y_pred))\n",
    "print('Confusion matrix of the model is:\\n',CM(y_test, y_pred))"
   ]
  },
  {
   "cell_type": "code",
   "execution_count": 39,
   "id": "22b52bed",
   "metadata": {},
   "outputs": [
    {
     "name": "stdout",
     "output_type": "stream",
     "text": [
      "Accuracy on training set: 0.95\n",
      "Accuracy on test set: 0.95\n",
      "Precision score on test set: 0.48\n",
      "Recall score on test set: 0.5\n",
      "F1 score on test set: 0.49\n"
     ]
    }
   ],
   "source": [
    "# calculate the accuracy score\n",
    "print('Accuracy on training set:', round(LRModel.score(X_train, y_train),2))\n",
    "print('Accuracy on test set:', round(accuracy_score(y_test, y_pred),2))\n",
    "print('Precision score on test set:', round(precision_score(y_test, y_pred, average='macro'),2))\n",
    "print('Recall score on test set:', round(recall_score(y_test, y_pred, average='macro'),2))\n",
    "print('F1 score on test set:', round(f1_score(y_test, y_pred, average='macro'),2))"
   ]
  },
  {
   "cell_type": "code",
   "execution_count": 40,
   "id": "6a6a457a",
   "metadata": {},
   "outputs": [
    {
     "name": "stdout",
     "output_type": "stream",
     "text": [
      "[0.9479251423921887, 0.9454841334418226, 0.951179820992677, 0.950366151342555, 0.951179820992677, 0.951179820992677, 0.951179820992677, 0.951179820992677, 0.951179820992677, 0.951179820992677, 0.951179820992677, 0.951179820992677, 0.951179820992677, 0.951179820992677, 0.951179820992677, 0.951179820992677]\n"
     ]
    }
   ],
   "source": [
    "# fit the model-3 on traning data and predict on the test data and measure the accuracy\n",
    "# Checking for optimal n_neighbour value\n",
    "# Importing KNeighborsClassifier from sklearn.neighbors as KNC\n",
    "Accuracy_range=[]\n",
    "N_range=np.arange(4,20)\n",
    "for i in N_range:\n",
    "    KModel=KNC(n_neighbors=i)\n",
    "    KModel.fit(X_train,y_train)\n",
    "    y_pred=KModel.predict(X_test)\n",
    "    Accuracy_range.append(accuracy_score(y_test,y_pred))\n",
    "    \n",
    "print(Accuracy_range)"
   ]
  },
  {
   "cell_type": "code",
   "execution_count": 41,
   "id": "58a7c7fc",
   "metadata": {},
   "outputs": [
    {
     "data": {
      "image/png": "[encoded data removed]",
      "text/plain": [
       "<Figure size 540x360 with 1 Axes>"
      ]
     },
     "metadata": {},
     "output_type": "display_data"
    }
   ],
   "source": [
    "f, ac = plt.subplots(figsize=(7.5, 5))\n",
    "f.suptitle('Accuracy range of various neighbor values')\n",
    "sns.set_theme()\n",
    "plt.plot( N_range, Accuracy_range, marker='o', color='#DB4437')\n",
    "plt.xlabel('Neighbor value')\n",
    "plt.ylabel('Accuracy Score')\n",
    "f.tight_layout()\n",
    "plt.show()\n"
   ]
  },
  {
   "cell_type": "markdown",
   "id": "2b8a6119",
   "metadata": {},
   "source": [
    "Selecting optimal neighbor value as '6'"
   ]
  },
  {
   "cell_type": "code",
   "execution_count": 42,
   "id": "627c5c8c",
   "metadata": {},
   "outputs": [
    {
     "data": {
      "text/plain": [
       "KNeighborsClassifier()"
      ]
     },
     "execution_count": 42,
     "metadata": {},
     "output_type": "execute_result"
    }
   ],
   "source": [
    "KNCModel=KNC(n_neighbors=5)\n",
    "KNCModel.fit(X_train,y_train)"
   ]
  },
  {
   "cell_type": "code",
   "execution_count": 43,
   "id": "abf86dd4",
   "metadata": {},
   "outputs": [],
   "source": [
    "# predict on the test data\n",
    "y_pred=KNCModel.predict(X_test)"
   ]
  },
  {
   "cell_type": "code",
   "execution_count": 44,
   "id": "ea11a50c",
   "metadata": {},
   "outputs": [
    {
     "name": "stdout",
     "output_type": "stream",
     "text": [
      "              precision    recall  f1-score   support\n",
      "\n",
      "           0       0.95      0.99      0.97      1169\n",
      "           1       0.11      0.02      0.03        60\n",
      "\n",
      "    accuracy                           0.95      1229\n",
      "   macro avg       0.53      0.50      0.50      1229\n",
      "weighted avg       0.91      0.95      0.93      1229\n",
      "\n",
      "Confusion matrix of the model is:\n",
      " [[1161    8]\n",
      " [  59    1]]\n"
     ]
    }
   ],
   "source": [
    "# Final status of the predictions made by the KNN Classifier\n",
    "print(CR(y_test , y_pred))\n",
    "print('Confusion matrix of the model is:\\n',CM(y_test, y_pred))"
   ]
  },
  {
   "cell_type": "code",
   "execution_count": 45,
   "id": "5415fc73",
   "metadata": {},
   "outputs": [
    {
     "name": "stdout",
     "output_type": "stream",
     "text": [
      "Accuracy on training set: 0.95\n",
      "Accuracy on test set: 0.95\n",
      "Precision score on test set: 0.53\n",
      "Recall score on test set: 0.5\n",
      "F1 score on test set: 0.5\n"
     ]
    }
   ],
   "source": [
    "# calculate the accuracy score\n",
    "print('Accuracy on training set:', round(KNCModel.score(X_train, y_train),2))\n",
    "print('Accuracy on test set:', round(accuracy_score(y_test, y_pred),2))\n",
    "print('Precision score on test set:', round(precision_score(y_test, y_pred, average='macro'),2))\n",
    "print('Recall score on test set:', round(recall_score(y_test, y_pred, average='macro'),2))\n",
    "print('F1 score on test set:', round(f1_score(y_test, y_pred, average='macro'),2))"
   ]
  },
  {
   "cell_type": "code",
   "execution_count": 46,
   "id": "ba09670b",
   "metadata": {},
   "outputs": [
    {
     "data": {
      "text/plain": [
       "RandomForestClassifier(criterion='entropy', max_depth=50, n_estimators=200,\n",
       "                       random_state=42)"
      ]
     },
     "execution_count": 46,
     "metadata": {},
     "output_type": "execute_result"
    }
   ],
   "source": [
    "# fit the model-4 on traning data and predict on the test data and measure the accuracy\n",
    "RFCModel = RFC(n_estimators=200,max_depth=50,random_state=42,criterion='entropy')\n",
    "RFCModel.fit(X_train, y_train)"
   ]
  },
  {
   "cell_type": "code",
   "execution_count": 47,
   "id": "a9747f5b",
   "metadata": {},
   "outputs": [],
   "source": [
    "# predict on the test data\n",
    "y_pred=RFCModel.predict(X_test)"
   ]
  },
  {
   "cell_type": "code",
   "execution_count": 48,
   "id": "38f35563",
   "metadata": {},
   "outputs": [
    {
     "name": "stdout",
     "output_type": "stream",
     "text": [
      "              precision    recall  f1-score   support\n",
      "\n",
      "           0       0.95      1.00      0.97      1169\n",
      "           1       0.20      0.02      0.03        60\n",
      "\n",
      "    accuracy                           0.95      1229\n",
      "   macro avg       0.58      0.51      0.50      1229\n",
      "weighted avg       0.92      0.95      0.93      1229\n",
      "\n",
      "Confusion matrix of the model is:\n",
      " [[1165    4]\n",
      " [  59    1]]\n"
     ]
    }
   ],
   "source": [
    "# Final status of the predictions made by the Random Forest Classifier\n",
    "print(CR(y_test , y_pred))\n",
    "print('Confusion matrix of the model is:\\n',CM(y_test, y_pred))"
   ]
  },
  {
   "cell_type": "code",
   "execution_count": 49,
   "id": "4d15fdb5",
   "metadata": {},
   "outputs": [
    {
     "name": "stdout",
     "output_type": "stream",
     "text": [
      "Accuracy on training set: 1.0\n",
      "Accuracy on test set: 0.95\n",
      "Precision score on test set: 0.95\n",
      "Recall score on test set: 0.95\n",
      "F1 score on test set: 0.95\n"
     ]
    }
   ],
   "source": [
    "# calculate the accuracy score\n",
    "print('Accuracy on training set:', round(RFCModel.score(X_train, y_train),2))\n",
    "print('Accuracy on test set:', round(accuracy_score(y_test, y_pred),2))\n",
    "print('Precision score on test set:', round(precision_score(y_test, y_pred, average='micro'),2))\n",
    "print('Recall score on test set:', round(recall_score(y_test, y_pred, average='micro'),2))\n",
    "print('F1 score on test set:', round(f1_score(y_test, y_pred, average='micro'),2))"
   ]
  },
  {
   "cell_type": "markdown",
   "id": "f0a019c3",
   "metadata": {},
   "source": [
    "### Comparison"
   ]
  },
  {
   "cell_type": "markdown",
   "id": "08f89e4d",
   "metadata": {},
   "source": [
    "|Model  |Accuracy on Training set  |Accuracy on Test set\t|Precision score\t|Recall score\t|F1 score|\n",
    "|---|---|---|---|---|---|\n",
    "|SVM|0.95|0.95|0.48|0.5|0.49|\n",
    "|Logistic Regression\t|0.95|0.95|0.48|0.5|0.49|\t\n",
    "|K-NC |0.95|0.95|0.53|0.5|0.5|\t\n",
    "|Random Forest|1.0|0.95|0.95|0.95|0.95|"
   ]
  },
  {
   "cell_type": "markdown",
   "id": "97899665",
   "metadata": {},
   "source": [
    "### Conclusion"
   ]
  },
  {
   "cell_type": "markdown",
   "id": "ee88d034",
   "metadata": {},
   "source": [
    "## Random Forest Classifier provides best predictions among all other ML Models employed here(according to the the accuracy and f1 scores)Conclusion .We can say that we are getting the best results from Random Forest Classifier , we can try it with different parameters and different training sizes to see a slightly deviated results or more accurate results."
   ]
  },
  {
   "cell_type": "markdown",
   "id": "e67a9184",
   "metadata": {},
   "source": [
    "## Fine Tuning"
   ]
  },
  {
   "cell_type": "markdown",
   "id": "54bec8e0",
   "metadata": {},
   "source": [
    "Tuning a classifier for maximum sensitivity or specificity can be achieved in (at least) two main steps. The first is using GridSearchCV to fine tune your model and keep the classifier with the highest recall score. The second step is to adjust the decision threshold using the precision recall curve and the roc curve.\n",
    "Here we are using GridSearchCV for fine tuning Random Forest Classifier."
   ]
  },
  {
   "cell_type": "markdown",
   "id": "08a26326",
   "metadata": {},
   "source": [
    "### Fine tuning Random Forest Classifier using GridSearchCV"
   ]
  },
  {
   "cell_type": "code",
   "execution_count": 50,
   "id": "44ff16aa",
   "metadata": {},
   "outputs": [],
   "source": [
    "# Importing  GridSearchCV and StratifiedKFold\n",
    "from sklearn.model_selection import GridSearchCV,StratifiedKFold\n",
    "RFCmodel = RFC(n_jobs=-1)\n",
    "\n",
    "param_grid = {\n",
    "    'min_samples_split': [3, 5, 10], \n",
    "    'n_estimators' : [100, 300],\n",
    "    'max_depth': [3, 5, 15, 25],\n",
    "    'max_features': [3, 5, 10, 20]\n",
    "}"
   ]
  },
  {
   "cell_type": "code",
   "execution_count": 51,
   "id": "65224d40",
   "metadata": {},
   "outputs": [],
   "source": [
    "# Creating a Scorer dictionary\n",
    "from sklearn.metrics import make_scorer\n",
    "scorers = {\n",
    "    'precision_score': make_scorer(precision_score),\n",
    "    'recall_score': make_scorer(recall_score),\n",
    "    'accuracy_score': make_scorer(accuracy_score)\n",
    "}"
   ]
  },
  {
   "cell_type": "code",
   "execution_count": 52,
   "id": "8db641ef",
   "metadata": {},
   "outputs": [],
   "source": [
    "#  the wrapper function is to quickly reuse the code to fit the best classifier according to the type of scoring metric chosen.\n",
    "# First trying on precision score\n",
    "def grid_search_wrapper(refit_score='precision_score'):\n",
    "    skf = StratifiedKFold(n_splits=10)\n",
    "    grid_search = GridSearchCV(RFCmodel, param_grid, scoring=scorers, refit=refit_score,\n",
    "                           cv=skf, return_train_score=True, n_jobs=-1)\n",
    "    grid_search.fit(X_train.values, y_train.values)\n",
    "\n",
    "    # make the predictions\n",
    "    y_pred = grid_search.predict(X_test.values)\n",
    "\n",
    "    print('Best params for {}'.format(refit_score))\n",
    "    print(grid_search.best_params_)\n",
    "\n",
    "    # confusion matrix on the test data.\n",
    "    print('\\nConfusion matrix of Random Forest optimized for {} on the test data:'.format(refit_score))\n",
    "    print(pd.DataFrame(confusion_matrix(y_test, y_pred),\n",
    "                 columns=['pred_neg', 'pred_pos'], index=['neg', 'pos']))\n",
    "    return grid_search                   "
   ]
  },
  {
   "cell_type": "code",
   "execution_count": null,
   "id": "120430f4",
   "metadata": {},
   "outputs": [],
   "source": [
    "grid_search_RFCmodel = grid_search_wrapper(refit_score='precision_score')"
   ]
  },
  {
   "cell_type": "code",
   "execution_count": null,
   "id": "fff30e94",
   "metadata": {},
   "outputs": [],
   "source": [
    "results = pd.DataFrame(grid_search_RFCmodel.cv_results_)\n",
    "results = results.sort_values(by='mean_test_precision_score', ascending=False)\n",
    "results[['mean_test_precision_score', 'mean_test_recall_score', 'mean_test_accuracy_score',\n",
    "         'param_max_depth', 'param_max_features', 'param_min_samples_split',\n",
    "         'param_n_estimators']].head()"
   ]
  },
  {
   "cell_type": "code",
   "execution_count": null,
   "id": "e8aaf60a",
   "metadata": {},
   "outputs": [],
   "source": [
    "# Accuracy score\n",
    "grid_search_RFCmodel = grid_search_wrapper(refit_score='accuracy_score')"
   ]
  },
  {
   "cell_type": "code",
   "execution_count": null,
   "id": "41c561c8",
   "metadata": {},
   "outputs": [],
   "source": [
    "# Recall score\n",
    "grid_search_RFCmodel = grid_search_wrapper(refit_score='recall_score')"
   ]
  },
  {
   "cell_type": "markdown",
   "id": "fe9d61bf",
   "metadata": {},
   "source": [
    "Submitted by :**Group 09,DSA,Batch03**"
   ]
  }
 ],
 "metadata": {
  "kernelspec": {
   "display_name": "Python 3 (ipykernel)",
   "language": "python",
   "name": "python3"
  },
  "language_info": {
   "codemirror_mode": {
    "name": "ipython",
    "version": 3
   },
   "file_extension": ".py",
   "mimetype": "text/x-python",
   "name": "python",
   "nbconvert_exporter": "python",
   "pygments_lexer": "ipython3",
   "version": "3.9.7"
  }
 },
 "nbformat": 4,
 "nbformat_minor": 5
}
